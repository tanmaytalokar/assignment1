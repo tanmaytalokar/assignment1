{
  "nbformat": 4,
  "nbformat_minor": 0,
  "metadata": {
    "colab": {
      "provenance": []
    },
    "kernelspec": {
      "name": "python3",
      "display_name": "Python 3"
    },
    "language_info": {
      "name": "python"
    }
  },
  "cells": [
    {
      "cell_type": "markdown",
      "source": [
        "**Python Basics Questions**"
      ],
      "metadata": {
        "id": "SteVx1Qhd69G"
      }
    },
    {
      "cell_type": "markdown",
      "source": [
        "1.  What is Python, and why is it popular?\n",
        ">>1.Python is a high-level programming language that is widely used. It was created by Guido van Rossum in the late 1980s and released in 1991. Python is known for its readability and simplicity. Its syntax is clean and easy to understand, making it user-friendly.\n",
        ">>2.Python is a very popular language because it has more than 137,000 libraries, such as PyTorch, Pandas, NumPy, and Seaborn. These libraries allow us to perform complex tasks with ease.\n",
        ">>3.Python is used in many different sectors, including machine learning, data science, data analytics, robotics, deep learning, and many more. Python is cross-platform, meaning it can run on various operating systems such as Windows, Linux, and macOS. Python has a large and active community from which developers can access plenty of resources. Python is very popular in both industry and education.\n",
        "\n",
        "2. What is an interpreter in Python?\n",
        ">> 1.python is an interpreted language. The interpreter in Python reads and executes the program line by line. It converts high-level Python code into machine language so that the computer can understand and execute it. The interpreter executes Python code directly, translating it into machine code in real time.\n",
        ">>2.The Python interpreter also allows for interactive programming, where we can run Python commands one by one in the Python shell. Python is cross-platform, meaning it can run on various operating systems such as Windows, macOS, and Linux. There are several Python interpreters, including CPython, PyPy, Jython, and more.\n",
        "\n",
        "3.  What are pre-defined keywords in Python ?\n",
        ">> 1.Pre-defined keywords in Python are also known as keywords. Keywords are reserved words that have special meanings in the Python language. These keywords are part of the language's syntax and cannot be used as identifiers.\n",
        ">>2.Keywords are used to perform specific operations and control the flow of a program. There are various types of pre-defined keywords in Python, such as if, else, True, False, None, as, break, class, not, with, and many more. If we want to access the list of pre-defined keywords, we can use the keyword module.\n",
        "\n",
        "4. Can keywords be used as variable names ?\n",
        ">> 1.Keywords cannot be used as variable names because keywords have special meanings and are reserved words in Python. They are part of the language's syntax and are already predefined. Variables, on the other hand, are user-defined identifiers. If we try to use a keyword as a variable name, Python will raise a SyntaxError.\n",
        "\n",
        "5.  What is mutability in Python ?\n",
        ">> 1.In Python, mutability refers to the ability to change an object after its creation. If an object is mutable, it can be modified after it is created. Examples of mutable objects include lists, dictionaries, and sets, which can be changed or modified after creation.\n",
        ">> 2.On the other hand, immutable objects such as strings, tuples, booleans, floats, and integers cannot be changed once they are created. Mutability is important because it determines how variables and objects are managed in memory. For mutable objects, changes affect the original object, while immutable objects cannot be change once they are created.\n",
        "\n",
        "6. Why are lists mutable, but tuples are immutable ?\n",
        ">> 1.Lists are mutable because they are designed to be flexible and can be modified after creation. This allows us to add, remove, or change elements in the list.\n",
        ">>2.Tuples are immutable because once they are created, they cannot be modified. This immutability ensures data integrity and safety, as the collection remains unchanged throughout its lifetime. Tuples are more memory-efficient than lists because their immutability allows Python to optimize their storage.\n",
        ">>3.Lists are useful when we need to change the items in the collection, while tuples are useful when we do not need to change the items. Tuples provide a guarantee that the data will remain constant.\n",
        "\n",
        "7.  What is the difference between “==” and “is” operators in Python ?\n",
        ">> 1.\"==\" is the equality operator, which is used to compare the values of two objects to see if they are equal. It checks if the data of two objects is the same. we can use \"==\" when we want to check if two objects have the same value.\n",
        ">> 2.\"is\" is the identity operator, which is used to compare the identity of two objects to see if they are the same object in memory. It checks whether two objects are actually the same object. we can use \"is\" when you want to check if two variables refer to the same object in memory.\n",
        "\n",
        "8. What are logical operators in Python ?\n",
        ">> 1.logical operators are used to perform logical operations on Boolean values (true and false). There are three logical operators in python are and,or,not.  \n",
        ">>2.AND returns true when the condition is true if condition is false  then it returns false.\n",
        ">>3.OR retuns true if atleast one condtion is true. if both condtion are false then it returns false.\n",
        ">>4.NOT reverse the truth value if the condition is true then it return false and if the condition is false then it return true.\n",
        "\n",
        "9. What is type casting in Python ?\n",
        ">> Type casting in python refers to change data type. we can change one data type into another. with the help of built in function type casting can be perform. type casting is important and can be used when we need to change the variable type. there are two type of type casting.\n",
        "  1.  Implicit Type Casting : python can convert one data type to another when it is necessary and safe to do. when we want to add two numbers first type is int and second is float then the python add this two numbers because python convert int into float and return value.\n",
        "  \n",
        "  2. Explicit Type Casting : in this we can manually convert one data type to another using python built in function.\n",
        "  we can do explicit type casting by using int(),str(),float() and many more. if there is two value first one data type is int and second one is float then we can convert float to an integer by int() function.\n",
        "\n",
        "10. What is the difference between implicit and explicit type casting ?\n",
        "\n",
        ">> 1. Implicit Type Casting : python can convert one data type to another when it is necessary and safe to do. programmer doesn't need to manually cast the data type,python handles it. it occours in compatible operations when there are two different data types then python convert the type as necessary.\n",
        "  \n",
        "  2. Explicit Type Casting : in this we can manually convert one data type to another using python built in function such as int(),str(),float(),etc. the programmers has full control over the conversion. it is needed when the operation requires specific type or we want to convert data type.\n",
        "\n",
        "\n",
        "11.  What is the purpose of conditional statements in Python ?\n",
        ">> The main purpose conditional statement is decision making in program and behave diffrent in different situations. it is used to execute the block of code based on the conditon. by conditional statement we can control the flow of program by making decision.\n",
        "Types of conditional statements :\n",
        " 1. if : it is used to check if condition is true and if condtion is true then the code inside if block will be execute.\n",
        "\n",
        " 2. else : else statement is used with the if statement. if the block of code in if statement is false then the else statement wil be execute.\n",
        "\n",
        " 3. elif : elif statement is used to check multiple conditon and when there is more than two possibilities. it will execute only when the if statement is false.\n",
        "\n",
        " 4. nested :if there are conditional statement inside other conditional statement then it is called as nesting.\n",
        "\n",
        "\n",
        "12. How does the elif statement work ?\n",
        ">> 1.Elif statement is used to checks multiple conditons. if there are multiple condition  one after another and if statement is false then elif condition is execute and if there is no condition is true in if and elif statement then the else statement will be executed.\n",
        ">>2.working of elif statement is \"if\" condition is false then python move to elif block and if elif condtion is true it will be execute that particular block and after that there will no condtion are checked. there can be multiple elif statement.\n",
        "\n",
        "13. What is the difference between for and while loops ?\n",
        ">> both are used to repeat the block of code but they are different in how and when the condition are evaluated.\n",
        "\n",
        " 1. for : it is used when we know the number of iterations or iterating over a sequence like list, string. it automatically iterate over the element in the sequence. it automatically handle iteration process. we don't need to do it manually. it can use break statement to exit early. it can use continue statement to skip current iteration and it will move to next.\n",
        "\n",
        " 2. while : while loop is used we want to repeat block of code until the condtion is true. when the number of iteration is not known it will be used.it will check the conditon before each iteration. we have to check it manually that loop will stop by updating a condition. it can use break statement to exit early. it can use continue statement to skip current iteration and it will move to next.\n",
        "\n",
        "14. Describe a scenario where a while loop is more suitable than a for loop.\n",
        ">> 1.A while loop is more suitable than a for loop because the number of iterations is not known in advance and it will continue looping base of conditon. while loop runs as long as condtion is true where for loop iterates over a sequences.\n",
        ">>2.while loop is used when we dont know the how many iterations are required to meet certain conditon on the other hand for loop is used when we have finite number of iterations. while loop is checked at the beginning of each iteration it allow to handle situation. the conclusion is use while loop when the number of iterations is uncertain and hence the while loop is more suitable than a for loop.\n"
      ],
      "metadata": {
        "id": "X6tFU6CKeJCZ"
      }
    },
    {
      "cell_type": "markdown",
      "source": [
        " **Practical Questions**"
      ],
      "metadata": {
        "id": "_zrX_IqCZN2G"
      }
    },
    {
      "cell_type": "code",
      "source": [
        "# 1.Write a Python program to print \"Hello, World!\"\n",
        "print(\"Hello, World!\")"
      ],
      "metadata": {
        "colab": {
          "base_uri": "https://localhost:8080/"
        },
        "id": "Rr8nVJfdZUqj",
        "outputId": "57608ce9-7457-484e-af94-8cbc4ba22eaf"
      },
      "execution_count": null,
      "outputs": [
        {
          "output_type": "stream",
          "name": "stdout",
          "text": [
            "Hello, World!\n"
          ]
        }
      ]
    },
    {
      "cell_type": "code",
      "source": [
        "# 2. Write a Python program that displays your name and age.\n",
        "name = input(\"enter your name : \")\n",
        "age = int(input(\"enter your age : \"))\n",
        "print (\"my name is\", name,\"and my age is\",age)"
      ],
      "metadata": {
        "colab": {
          "base_uri": "https://localhost:8080/"
        },
        "id": "DIXQQ_xraE0e",
        "outputId": "de05a390-2a7f-41e9-8aa3-47a7dc77d268"
      },
      "execution_count": null,
      "outputs": [
        {
          "output_type": "stream",
          "name": "stdout",
          "text": [
            "enter your name : tt\n",
            "enter your age : 21\n",
            "my name is tt and my age is 21\n"
          ]
        }
      ]
    },
    {
      "cell_type": "code",
      "source": [
        "# 3. Write code to print all the pre-defined keywords in Python using the keyword library.\n",
        "import keyword\n",
        "print(keyword.kwlist)"
      ],
      "metadata": {
        "colab": {
          "base_uri": "https://localhost:8080/"
        },
        "id": "3XS--wOAbEH3",
        "outputId": "8bdb0660-5bfc-46c9-b844-553ed280941a"
      },
      "execution_count": null,
      "outputs": [
        {
          "output_type": "stream",
          "name": "stdout",
          "text": [
            "['False', 'None', 'True', 'and', 'as', 'assert', 'async', 'await', 'break', 'class', 'continue', 'def', 'del', 'elif', 'else', 'except', 'finally', 'for', 'from', 'global', 'if', 'import', 'in', 'is', 'lambda', 'nonlocal', 'not', 'or', 'pass', 'raise', 'return', 'try', 'while', 'with', 'yield']\n"
          ]
        }
      ]
    },
    {
      "cell_type": "code",
      "source": [
        "# 4. Write a program that checks if a given word is a Python keyword.\n",
        "import keyword\n",
        "word = input (\"enter a word:\")\n",
        "if keyword.iskeyword(word):\n",
        "  print(word,\"is a python keyword\")\n",
        "else:\n",
        "    print(word,\"is not a python keyword\")"
      ],
      "metadata": {
        "colab": {
          "base_uri": "https://localhost:8080/"
        },
        "id": "AdVKx_fscO2Y",
        "outputId": "7c6da2b5-8789-475d-98b2-18421c7f2185"
      },
      "execution_count": null,
      "outputs": [
        {
          "output_type": "stream",
          "name": "stdout",
          "text": [
            "enter a word:with\n",
            "with is a python keyword\n"
          ]
        }
      ]
    },
    {
      "cell_type": "code",
      "source": [
        "# 5.  Create a list and tuple in Python, and demonstrate how attempting to change an element works differently.\n",
        "list1 = [\"horse\",\"dog\",\"cat\",\"lion\",\"peacock\"]\n",
        "list1[2] = \"goat\"\n",
        "print(list1)\n",
        "\n",
        "tuple1 = (\"judo\",\"badmintion\",\"hockey\",\"cricket\",\"basketball\")\n",
        "try:\n",
        "  tuple1[2] = \"football\"\n",
        "except TypeError as a:\n",
        "  print(\"error to modify an element in the tuple.\",a)\n"
      ],
      "metadata": {
        "colab": {
          "base_uri": "https://localhost:8080/"
        },
        "id": "auVAQvKfc0J9",
        "outputId": "f64fec15-94e4-45fe-fb4e-49995c15043f"
      },
      "execution_count": null,
      "outputs": [
        {
          "output_type": "stream",
          "name": "stdout",
          "text": [
            "['horse', 'dog', 'goat', 'lion', 'peacock']\n",
            "error to modify an element in the tuple. 'tuple' object does not support item assignment\n"
          ]
        }
      ]
    },
    {
      "cell_type": "code",
      "source": [
        "# 6.  Write a function to demonstrate the behavior of mutable and immutable arguments.\n",
        "\n",
        "\n",
        "# lists is mutable. it support item assignment\n",
        "b = [23,23.56,\"tennis\",True,\"soccor\"]\n",
        "print(\"before modifying list:\",b)\n",
        "b[3] = \"holleyball\"\n",
        "print(\"after modifying list:\",b)\n",
        "\n",
        "\n",
        "# tuple is immutable so it will throw an error. we cannot modify it.\n",
        "'''a = (23,23.56,\"tennis\",True,\"soccor\")\n",
        "print [3] = \"holleyball\"'''\n",
        "#comment this code because this is only to show that it throw error.\n",
        "\n",
        "\n",
        "# string is immutable,we will convert string to integer. we have to handle TypeError.\n",
        "a = \"this is python practical\"\n",
        "print (\"before modifying string:\",a)\n",
        "try:\n",
        "  integer_value=int(a)\n",
        "  print (f\"converted to integer: {integer_value}\")\n",
        "except ValueError:\n",
        "    print(\"cannot convert to integer because string is immutable.\")\n",
        "\n"
      ],
      "metadata": {
        "id": "ls_NFhkaeZtw",
        "colab": {
          "base_uri": "https://localhost:8080/"
        },
        "outputId": "d5989cf5-2c8a-447f-aad6-da0ab2b0700f"
      },
      "execution_count": null,
      "outputs": [
        {
          "output_type": "stream",
          "name": "stdout",
          "text": [
            "before modifying list: [23, 23.56, 'tennis', True, 'soccor']\n",
            "after modifying list: [23, 23.56, 'tennis', 'holleyball', 'soccor']\n",
            "before modifying string: this is python practical\n",
            "cannot convert to integer because string is immutable.\n"
          ]
        }
      ]
    },
    {
      "cell_type": "code",
      "source": [
        "# 7.  Write a function to demonstrate the behavior of mutable and immutable arguments.\n",
        "# lists is mutable. it support item assignment\n",
        "b = [23,23.56,\"tennis\",True,\"soccor\"]\n",
        "print(\"before modifying list:\",b)\n",
        "b[3] = \"holleyball\"\n",
        "print(\"after modifying list:\",b)\n",
        "\n",
        "\n",
        "# tuple is immutable so it will throw an error. we cannot modify it.\n",
        "'''a = (23,23.56,\"tennis\",True,\"soccor\")\n",
        "print [3] = \"holleyball\"'''\n",
        "#comment this code because this is only to show that it throw error.\n",
        "\n",
        "\n",
        "# string is immutable,we will convert string to integer. we have to handle TypeError.\n",
        "a = \"this is python practical\"\n",
        "print (\"before modifying string:\",a)\n",
        "try:\n",
        "  integer_value=int(a)\n",
        "  print (f\"converted to integer: {integer_value}\")\n",
        "except ValueError:\n",
        "    print(\"cannot convert to integer because string is immutable.\")"
      ],
      "metadata": {
        "id": "n3rJU4yPULw3",
        "colab": {
          "base_uri": "https://localhost:8080/"
        },
        "outputId": "98db54da-9d26-4de0-a1c9-55972b192ce6"
      },
      "execution_count": null,
      "outputs": [
        {
          "output_type": "stream",
          "name": "stdout",
          "text": [
            "before modifying list: [23, 23.56, 'tennis', True, 'soccor']\n",
            "after modifying list: [23, 23.56, 'tennis', 'holleyball', 'soccor']\n",
            "before modifying string: this is python practical\n",
            "cannot convert to integer because string is immutable.\n"
          ]
        }
      ]
    },
    {
      "cell_type": "code",
      "source": [
        "\n",
        "# 8.  Write a program to demonstrate the use of logical operators.\n",
        "\n",
        "  # AND operator\n",
        "\n",
        "a = 17\n",
        "b = 66\n",
        "if a>0 and b<1000:\n",
        "  print (f\"{a} is greater than 0 and {b} is less than 100\")\n",
        "else:\n",
        "    print(\"condition is false\")\n",
        "\n",
        "  # OR operator\n",
        "\n",
        "a=19\n",
        "b=13\n",
        "if a < 1000 or b>0:\n",
        "  print (f\"{a} is smaller than 1000 and {b} is greater than 0\")\n",
        "else:\n",
        "  print(\"condition is false\")\n",
        "\n",
        "\n",
        "  #NOT operatror\n",
        "c = 100\n",
        "if not (c<1000):\n",
        "  print(f\"{c} is greater than 0\")\n",
        "else:\n",
        "  print(\"condition is false\")\n",
        "\n",
        "\n"
      ],
      "metadata": {
        "colab": {
          "base_uri": "https://localhost:8080/"
        },
        "id": "xuJc52ddWY7z",
        "outputId": "363aea92-2df3-4d30-caf8-09698bc95d03"
      },
      "execution_count": null,
      "outputs": [
        {
          "output_type": "stream",
          "name": "stdout",
          "text": [
            "17 is greater than 0 and 66 is less than 100\n",
            "19 is smaller than 1000 and 13 is greater than 0\n",
            "condition is false\n"
          ]
        }
      ]
    },
    {
      "cell_type": "code",
      "source": [
        "# 9. Write a Python program to convert user input from string to integer, float, and boolean types\n",
        "a = input(\"enter a string or value:\")\n",
        "#convert to integer\n",
        "try:\n",
        "  integer_value=int(a)\n",
        "  print (f\"converted to integer: {integer_value}\")\n",
        "except ValueError:\n",
        "    print(\"connot convert to integer\")\n",
        "\n",
        "#convert to float\n",
        "try:\n",
        "  float_value=float(a)\n",
        "  print (f\"converted to float: {float_value}\")\n",
        "except ValueError:\n",
        "    print(\"connot convert to float\")\n",
        "\n",
        "#convert to boolean\n",
        "try:\n",
        "  boolean_value=bool(a)\n",
        "  print (f\"converted to boolean : {boolean_value}\")\n",
        "except ValueError:\n",
        "    print(\"connot convert to boolean \")\n",
        "\n",
        "\n",
        "\n",
        "\n"
      ],
      "metadata": {
        "colab": {
          "base_uri": "https://localhost:8080/"
        },
        "id": "VnUIeaE7WlSO",
        "outputId": "07a548e4-33b4-4cea-ef84-527a7e9f32f6"
      },
      "execution_count": null,
      "outputs": [
        {
          "output_type": "stream",
          "name": "stdout",
          "text": [
            "enter a string or value:56\n",
            "converted to integer: 56\n",
            "converted to float: 56.0\n",
            "converted to boolean : True\n"
          ]
        }
      ]
    },
    {
      "cell_type": "code",
      "source": [
        "# 10. Write code to demonstrate type casting with list elements\n",
        "a = [12,15,\"hello\",45,\"world\",33.25,56.87,True,False]\n",
        "\n",
        "#convert to string\n",
        "string_list = [str(element) for element in a]\n",
        "print(f\"converted to string\",string_list)\n",
        "\n",
        "#convert to float\n",
        "float_list = []\n",
        "for element in a:\n",
        "  try:\n",
        "    float_list.append(float(element))\n",
        "  except ValueError:\n",
        "\n",
        "     print(\"could not convert\",element, \"to float\")\n",
        "\n",
        "#convert to integer\n",
        "integer_list=[]\n",
        "for element in a:\n",
        "  try:\n",
        "    integer_list.append(int(element))\n",
        "  except ValueError:\n",
        "      print(\"cannot convert\",element,\"to integer\")\n",
        "\n",
        "#convert to boolean\n",
        "boolean_list=[bool(element) for element in a]\n",
        "print(\"elements convert to bollean:\",boolean_list)\n",
        "\n",
        "\n",
        "\n"
      ],
      "metadata": {
        "colab": {
          "base_uri": "https://localhost:8080/"
        },
        "id": "iEQFa4aonEaM",
        "outputId": "811cf5b2-ef87-49f4-b5c5-568ae11026d3"
      },
      "execution_count": null,
      "outputs": [
        {
          "output_type": "stream",
          "name": "stdout",
          "text": [
            "converted to string ['12', '15', 'hello', '45', 'world', '33.25', '56.87', 'True', 'False']\n",
            "could not convert hello to float\n",
            "could not convert world to float\n",
            "cannot convert hello to integer\n",
            "cannot convert world to integer\n",
            "elements convert to bollean: [True, True, True, True, True, True, True, True, False]\n"
          ]
        }
      ]
    },
    {
      "cell_type": "code",
      "source": [
        "# 11. Write a program that checks if a number is positive, negative, or zero.\n",
        "a=int(input(\"enter a value:\"))\n",
        "if a>0:\n",
        "    print(f\"{a} is positive\")\n",
        "elif a<0:\n",
        "    print(f\"{a} is negative\")\n",
        "else:\n",
        "    print(f\"{a} is zero\")"
      ],
      "metadata": {
        "colab": {
          "base_uri": "https://localhost:8080/"
        },
        "id": "Z09pjL_-qoXL",
        "outputId": "d61307d8-64aa-45a6-9ee4-dacc1403b0ec"
      },
      "execution_count": null,
      "outputs": [
        {
          "output_type": "stream",
          "name": "stdout",
          "text": [
            "enter a value:0\n",
            "0 is zero\n"
          ]
        }
      ]
    },
    {
      "cell_type": "code",
      "source": [
        "# 12. Write a for loop to print numbers from 1 to 10.\n",
        "for i in range (1,11):\n",
        "  print (i)"
      ],
      "metadata": {
        "colab": {
          "base_uri": "https://localhost:8080/"
        },
        "id": "wKIPnW0Yya6_",
        "outputId": "420e2f66-f1aa-48ab-82bf-f2046b18d261"
      },
      "execution_count": null,
      "outputs": [
        {
          "output_type": "stream",
          "name": "stdout",
          "text": [
            "1\n",
            "2\n",
            "3\n",
            "4\n",
            "5\n",
            "6\n",
            "7\n",
            "8\n",
            "9\n",
            "10\n"
          ]
        }
      ]
    },
    {
      "cell_type": "code",
      "source": [
        " # 13.Write a Python program to find the sum of all even numbers between 1 and 50.\n",
        "sum_of_even_numbers = 0\n",
        "for num in range(1,51):\n",
        "  if num % 2 == 0:\n",
        "    sum_of_even_numbers += num\n",
        "\n",
        "print(f\"The sum of all even numbers between 1 and 50 is: {sum_of_even_numbers}\")"
      ],
      "metadata": {
        "colab": {
          "base_uri": "https://localhost:8080/"
        },
        "id": "pDF3s02F0gVT",
        "outputId": "d717ea56-8d7e-4e9d-a722-2e54fd28d242"
      },
      "execution_count": null,
      "outputs": [
        {
          "output_type": "stream",
          "name": "stdout",
          "text": [
            "The sum of all even numbers between 1 and 50 is: 650\n"
          ]
        }
      ]
    },
    {
      "cell_type": "code",
      "source": [
        "# 14. Write a program to reverse a string using a while loop.\n",
        "a = input(\"enter a string:\")\n",
        "reversed_string = \"\"\n",
        "index = len(a) - 1\n",
        "while index >=0:\n",
        "  reversed_string += a[index]\n",
        "  index -= 1\n",
        "\n",
        "print(f\"reversed string:{reversed_string}\")\n"
      ],
      "metadata": {
        "colab": {
          "base_uri": "https://localhost:8080/"
        },
        "id": "y54N9ZH73d-p",
        "outputId": "6bbd52c7-c0ca-4921-8266-343899235593"
      },
      "execution_count": null,
      "outputs": [
        {
          "output_type": "stream",
          "name": "stdout",
          "text": [
            "enter a string:tanmay\n",
            "reversed string:yamnat\n"
          ]
        }
      ]
    },
    {
      "cell_type": "code",
      "source": [
        "# 15. Write a Python program to calculate the factorial of a number provided by the user using a while loop\n",
        "a = int(input(\"enter the number:\"))\n",
        "factorial = 1\n",
        "if a <0:\n",
        "  print(\"factotial is not defined for negative number\")\n",
        "else:\n",
        "  number = a\n",
        "  while number > 1:\n",
        "      factorial *= number\n",
        "      number -= 1\n",
        "\n",
        "print(f\"factorial of {a} is : {factorial} \")"
      ],
      "metadata": {
        "colab": {
          "base_uri": "https://localhost:8080/"
        },
        "id": "6T_qrkrt8vnc",
        "outputId": "f1df68c0-e780-4e41-ab47-249a3d93d44b"
      },
      "execution_count": null,
      "outputs": [
        {
          "output_type": "stream",
          "name": "stdout",
          "text": [
            "enter the number:5\n",
            "factorial of 5 is : 120 \n"
          ]
        }
      ]
    },
    {
      "cell_type": "code",
      "source": [],
      "metadata": {
        "id": "OEmJe5Xr982t"
      },
      "execution_count": null,
      "outputs": []
    }
  ]
}